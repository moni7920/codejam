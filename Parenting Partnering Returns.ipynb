{
 "cells": [
  {
   "cell_type": "code",
   "execution_count": null,
   "metadata": {},
   "outputs": [],
   "source": [
    "def f(raw_arr):\n",
    "    arr = []\n",
    "    for i in range(len(raw_arr)):\n",
    "        arr.append((raw_arr[i][0], raw_arr[i][1], i))\n",
    "    arr.sort()\n",
    "    c_end = 0\n",
    "    j_end = 0\n",
    "    res_arr = []\n",
    "    for start, end, idx in arr:\n",
    "        if start < c_end and start < j_end:\n",
    "            return \"IMPOSSIBLE\"\n",
    "        if start >= c_end:\n",
    "            res_arr.append(('C', idx))\n",
    "            c_end = end\n",
    "        else:\n",
    "            res_arr.append(('J', idx))\n",
    "            j_end = end\n",
    "    res = ''\n",
    "    for c, idx in sorted(res_arr, key=lambda x: x[1]):\n",
    "        res += c\n",
    "    return res\n",
    "T = int(input())\n",
    "for t in range(1, T + 1):\n",
    "    N = int(input())\n",
    "    arr = []\n",
    "    for _ in range(N):\n",
    "        interval = [int(s) for s in input().split(\" \")]\n",
    "        arr.append(interval)\n",
    "    res = f(arr)\n",
    "    print(\"Case #{}: {}\".format(t, res))\n",
    "\n",
    "\n"
   ]
  }
 ],
 "metadata": {
  "kernelspec": {
   "display_name": "Python 3",
   "language": "python",
   "name": "python3"
  },
  "language_info": {
   "codemirror_mode": {
    "name": "ipython",
    "version": 3
   },
   "file_extension": ".py",
   "mimetype": "text/x-python",
   "name": "python",
   "nbconvert_exporter": "python",
   "pygments_lexer": "ipython3",
   "version": "3.7.4"
  }
 },
 "nbformat": 4,
 "nbformat_minor": 2
}
