{
 "cells": [
  {
   "cell_type": "code",
   "execution_count": null,
   "metadata": {},
   "outputs": [],
   "source": [
    "def paran(t,result,prev):\n",
    "    if prev != '' and t != '':\n",
    "        if int(prev) > int(t[0]):\n",
    "            for i in range(int(prev)-int(t[0])):\n",
    "                result = result + ')'\n",
    "    if t == '':\n",
    "        for i in range(int(prev)):\n",
    "            result = result + ')'\n",
    "        return result\n",
    "    if int(t[0]) == 0:\n",
    "        return paran(t[1:],result + t[0],t[0])\n",
    "    if int(t[0]) == 1:\n",
    "        if prev != '':\n",
    "            if int(prev) == 0:\n",
    "                result = result + '(' + t[0]\n",
    "            else:\n",
    "                result = result + t[0]\n",
    "        else:\n",
    "            result = result + '(' + t[0]\n",
    "        return paran(t[1:],result,t[0])\n",
    "    if int(t[0]) > 1:\n",
    "        if prev != '':\n",
    "            for i in range(int(t[0]) - int(prev)):\n",
    "                result = result + '('\n",
    "            result = result + t[0]\n",
    "        else:\n",
    "            for i in range(int(t[0])):\n",
    "                result = result + '('\n",
    "            result = result + t[0]\n",
    "        return paran(t[1:],result,t[0])\n",
    "t = int(input())\n",
    "for m in range(0,t):\n",
    "    k = input()\n",
    "    print('Case #{}: {}'.format(m + 1,paran(k,'','')))\n"
   ]
  }
 ],
 "metadata": {
  "kernelspec": {
   "display_name": "Python 3",
   "language": "python",
   "name": "python3"
  },
  "language_info": {
   "codemirror_mode": {
    "name": "ipython",
    "version": 3
   },
   "file_extension": ".py",
   "mimetype": "text/x-python",
   "name": "python",
   "nbconvert_exporter": "python",
   "pygments_lexer": "ipython3",
   "version": "3.7.4"
  }
 },
 "nbformat": 4,
 "nbformat_minor": 2
}
