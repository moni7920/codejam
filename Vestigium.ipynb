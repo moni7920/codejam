{
 "cells": [
  {
   "cell_type": "code",
   "execution_count": 58,
   "metadata": {},
   "outputs": [
    {
     "name": "stdout",
     "output_type": "stream",
     "text": [
      "3\n",
      "4\n",
      "1 2 3 4\n",
      "2 1 4 3\n",
      "3 4 1 2\n",
      "4 3 2 1\n",
      "4\n",
      "2 2 2 2\n",
      "2 3 2 3\n",
      "2 2 2 3\n",
      "2 2 2 2\n",
      "3\n",
      "2 1 3\n",
      "1 3 2\n",
      "1 2 3\n",
      "Case #1: 4 0 0\n",
      "Case #2: 9 4 4\n",
      "Case #3: 8 0 2\n"
     ]
    }
   ],
   "source": [
    "import array as a\n",
    "import numpy as np\n",
    "testcase= int(input())\n",
    "mat=[]\n",
    "ans=a.array('i',[])\n",
    "rowcount=0\n",
    "colcount=0\n",
    "FLAG=0\n",
    "for Case in range(testcase):\n",
    "    size= int(input())\n",
    "    for i in range(size):           \n",
    "        atemp =[]\n",
    "        row_inp = input()\n",
    "        row_input= row_inp.split(' ')\n",
    "        for i in range(len(row_input)):\n",
    "            count=row_input.count(row_input[i])\n",
    "            if count>1:\n",
    "                FLAG=1\n",
    "            \n",
    "        if FLAG==1:\n",
    "            rowcount+=1\n",
    "            FLAG=0\n",
    "        else:\n",
    "            FLAG=0\n",
    "        mat.append(row_input)\n",
    "        \n",
    "    \n",
    "    diagsum=0\n",
    "    for y in range(size):\n",
    "        diagsum = diagsum + int(mat[y][y])\n",
    "    rot=np.rot90(mat)\n",
    "    countc=0\n",
    "    for i in range(size):\n",
    "        col_inp=rot[i].tolist()\n",
    "        for j in range(size):\n",
    "            countc=col_inp.count(col_inp[j])\n",
    "            if countc>1:\n",
    "                FLAG=1\n",
    "            \n",
    "        if FLAG==1:\n",
    "            colcount+=1\n",
    "            FLAG=0\n",
    "        else:\n",
    "            FLAG=0    \n",
    "    ans=np.append(ans,diagsum)\n",
    "    ans=np.append(ans,rowcount)\n",
    "    ans=np.append(ans,colcount)\n",
    "    mat=[]\n",
    "    rowcount=0\n",
    "    colcount=0\n",
    "    diagsum=0    \n",
    "    \n",
    "z=0\n",
    "ind=1\n",
    "while ind<=testcase:\n",
    "    print('Case #{0}: {1} {2} {3}'.format(ind,ans[z],ans[z+1],ans[z+2]))\n",
    "    z+=3\n",
    "    ind+=1"
   ]
  }
 ],
 "metadata": {
  "kernelspec": {
   "display_name": "Python 3",
   "language": "python",
   "name": "python3"
  },
  "language_info": {
   "codemirror_mode": {
    "name": "ipython",
    "version": 3
   },
   "file_extension": ".py",
   "mimetype": "text/x-python",
   "name": "python",
   "nbconvert_exporter": "python",
   "pygments_lexer": "ipython3",
   "version": "3.7.4"
  }
 },
 "nbformat": 4,
 "nbformat_minor": 2
}
